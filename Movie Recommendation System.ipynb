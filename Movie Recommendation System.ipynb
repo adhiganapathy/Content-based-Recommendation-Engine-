{
 "cells": [
  {
   "cell_type": "markdown",
   "id": "aa3424c7-07c5-4ca6-8617-090ab9e2d0c6",
   "metadata": {},
   "source": [
    "### Import Dependencies"
   ]
  },
  {
   "cell_type": "code",
   "execution_count": 9,
   "id": "87d861f7-3e81-48c4-bc8f-d13d7c2ab462",
   "metadata": {},
   "outputs": [],
   "source": [
    "import numpy as np\n",
    "import pandas as pd\n",
    "import matplotlib.pyplot as plt"
   ]
  },
  {
   "cell_type": "markdown",
   "id": "dcfdce8b-db8c-4cf5-8e73-b51ac6680b23",
   "metadata": {},
   "source": [
    "### Load Dataset "
   ]
  },
  {
   "cell_type": "code",
   "execution_count": 10,
   "id": "942d41e7-3d7c-4108-8aef-70e069c42af8",
   "metadata": {},
   "outputs": [],
   "source": [
    "data=pd.read_csv(r\"C:\\Users\\Adhi Ganapathy\\Documents\\Python_ws\\Recommendation Engine 13092025\\movies.csv\")"
   ]
  },
  {
   "cell_type": "code",
   "execution_count": 11,
   "id": "7d8e098e-a65a-4548-b031-970f464d1b04",
   "metadata": {},
   "outputs": [
    {
     "name": "stdout",
     "output_type": "stream",
     "text": [
      "<class 'pandas.core.frame.DataFrame'>\n",
      "RangeIndex: 4803 entries, 0 to 4802\n",
      "Data columns (total 24 columns):\n",
      " #   Column                Non-Null Count  Dtype  \n",
      "---  ------                --------------  -----  \n",
      " 0   index                 4803 non-null   int64  \n",
      " 1   budget                4803 non-null   int64  \n",
      " 2   genres                4775 non-null   object \n",
      " 3   homepage              1712 non-null   object \n",
      " 4   id                    4803 non-null   int64  \n",
      " 5   keywords              4391 non-null   object \n",
      " 6   original_language     4803 non-null   object \n",
      " 7   original_title        4803 non-null   object \n",
      " 8   overview              4800 non-null   object \n",
      " 9   popularity            4803 non-null   float64\n",
      " 10  production_companies  4803 non-null   object \n",
      " 11  production_countries  4803 non-null   object \n",
      " 12  release_date          4802 non-null   object \n",
      " 13  revenue               4803 non-null   int64  \n",
      " 14  runtime               4801 non-null   float64\n",
      " 15  spoken_languages      4803 non-null   object \n",
      " 16  status                4803 non-null   object \n",
      " 17  tagline               3959 non-null   object \n",
      " 18  title                 4803 non-null   object \n",
      " 19  vote_average          4803 non-null   float64\n",
      " 20  vote_count            4803 non-null   int64  \n",
      " 21  cast                  4760 non-null   object \n",
      " 22  crew                  4803 non-null   object \n",
      " 23  director              4773 non-null   object \n",
      "dtypes: float64(3), int64(5), object(16)\n",
      "memory usage: 900.7+ KB\n"
     ]
    }
   ],
   "source": [
    "data.info()"
   ]
  },
  {
   "cell_type": "code",
   "execution_count": 12,
   "id": "04cb2764-ff07-47f2-848d-20288f4dbbdb",
   "metadata": {},
   "outputs": [
    {
     "data": {
      "text/html": [
       "<div>\n",
       "<style scoped>\n",
       "    .dataframe tbody tr th:only-of-type {\n",
       "        vertical-align: middle;\n",
       "    }\n",
       "\n",
       "    .dataframe tbody tr th {\n",
       "        vertical-align: top;\n",
       "    }\n",
       "\n",
       "    .dataframe thead th {\n",
       "        text-align: right;\n",
       "    }\n",
       "</style>\n",
       "<table border=\"1\" class=\"dataframe\">\n",
       "  <thead>\n",
       "    <tr style=\"text-align: right;\">\n",
       "      <th></th>\n",
       "      <th>index</th>\n",
       "      <th>budget</th>\n",
       "      <th>genres</th>\n",
       "      <th>homepage</th>\n",
       "      <th>id</th>\n",
       "      <th>keywords</th>\n",
       "      <th>original_language</th>\n",
       "      <th>original_title</th>\n",
       "      <th>overview</th>\n",
       "      <th>popularity</th>\n",
       "      <th>...</th>\n",
       "      <th>runtime</th>\n",
       "      <th>spoken_languages</th>\n",
       "      <th>status</th>\n",
       "      <th>tagline</th>\n",
       "      <th>title</th>\n",
       "      <th>vote_average</th>\n",
       "      <th>vote_count</th>\n",
       "      <th>cast</th>\n",
       "      <th>crew</th>\n",
       "      <th>director</th>\n",
       "    </tr>\n",
       "  </thead>\n",
       "  <tbody>\n",
       "    <tr>\n",
       "      <th>0</th>\n",
       "      <td>0</td>\n",
       "      <td>237000000</td>\n",
       "      <td>Action Adventure Fantasy Science Fiction</td>\n",
       "      <td>http://www.avatarmovie.com/</td>\n",
       "      <td>19995</td>\n",
       "      <td>culture clash future space war space colony so...</td>\n",
       "      <td>en</td>\n",
       "      <td>Avatar</td>\n",
       "      <td>In the 22nd century, a paraplegic Marine is di...</td>\n",
       "      <td>150.437577</td>\n",
       "      <td>...</td>\n",
       "      <td>162.0</td>\n",
       "      <td>[{\"iso_639_1\": \"en\", \"name\": \"English\"}, {\"iso...</td>\n",
       "      <td>Released</td>\n",
       "      <td>Enter the World of Pandora.</td>\n",
       "      <td>Avatar</td>\n",
       "      <td>7.2</td>\n",
       "      <td>11800</td>\n",
       "      <td>Sam Worthington Zoe Saldana Sigourney Weaver S...</td>\n",
       "      <td>[{'name': 'Stephen E. Rivkin', 'gender': 0, 'd...</td>\n",
       "      <td>James Cameron</td>\n",
       "    </tr>\n",
       "    <tr>\n",
       "      <th>1</th>\n",
       "      <td>1</td>\n",
       "      <td>300000000</td>\n",
       "      <td>Adventure Fantasy Action</td>\n",
       "      <td>http://disney.go.com/disneypictures/pirates/</td>\n",
       "      <td>285</td>\n",
       "      <td>ocean drug abuse exotic island east india trad...</td>\n",
       "      <td>en</td>\n",
       "      <td>Pirates of the Caribbean: At World's End</td>\n",
       "      <td>Captain Barbossa, long believed to be dead, ha...</td>\n",
       "      <td>139.082615</td>\n",
       "      <td>...</td>\n",
       "      <td>169.0</td>\n",
       "      <td>[{\"iso_639_1\": \"en\", \"name\": \"English\"}]</td>\n",
       "      <td>Released</td>\n",
       "      <td>At the end of the world, the adventure begins.</td>\n",
       "      <td>Pirates of the Caribbean: At World's End</td>\n",
       "      <td>6.9</td>\n",
       "      <td>4500</td>\n",
       "      <td>Johnny Depp Orlando Bloom Keira Knightley Stel...</td>\n",
       "      <td>[{'name': 'Dariusz Wolski', 'gender': 2, 'depa...</td>\n",
       "      <td>Gore Verbinski</td>\n",
       "    </tr>\n",
       "    <tr>\n",
       "      <th>2</th>\n",
       "      <td>2</td>\n",
       "      <td>245000000</td>\n",
       "      <td>Action Adventure Crime</td>\n",
       "      <td>http://www.sonypictures.com/movies/spectre/</td>\n",
       "      <td>206647</td>\n",
       "      <td>spy based on novel secret agent sequel mi6</td>\n",
       "      <td>en</td>\n",
       "      <td>Spectre</td>\n",
       "      <td>A cryptic message from Bond’s past sends him o...</td>\n",
       "      <td>107.376788</td>\n",
       "      <td>...</td>\n",
       "      <td>148.0</td>\n",
       "      <td>[{\"iso_639_1\": \"fr\", \"name\": \"Fran\\u00e7ais\"},...</td>\n",
       "      <td>Released</td>\n",
       "      <td>A Plan No One Escapes</td>\n",
       "      <td>Spectre</td>\n",
       "      <td>6.3</td>\n",
       "      <td>4466</td>\n",
       "      <td>Daniel Craig Christoph Waltz L\\u00e9a Seydoux ...</td>\n",
       "      <td>[{'name': 'Thomas Newman', 'gender': 2, 'depar...</td>\n",
       "      <td>Sam Mendes</td>\n",
       "    </tr>\n",
       "    <tr>\n",
       "      <th>3</th>\n",
       "      <td>3</td>\n",
       "      <td>250000000</td>\n",
       "      <td>Action Crime Drama Thriller</td>\n",
       "      <td>http://www.thedarkknightrises.com/</td>\n",
       "      <td>49026</td>\n",
       "      <td>dc comics crime fighter terrorist secret ident...</td>\n",
       "      <td>en</td>\n",
       "      <td>The Dark Knight Rises</td>\n",
       "      <td>Following the death of District Attorney Harve...</td>\n",
       "      <td>112.312950</td>\n",
       "      <td>...</td>\n",
       "      <td>165.0</td>\n",
       "      <td>[{\"iso_639_1\": \"en\", \"name\": \"English\"}]</td>\n",
       "      <td>Released</td>\n",
       "      <td>The Legend Ends</td>\n",
       "      <td>The Dark Knight Rises</td>\n",
       "      <td>7.6</td>\n",
       "      <td>9106</td>\n",
       "      <td>Christian Bale Michael Caine Gary Oldman Anne ...</td>\n",
       "      <td>[{'name': 'Hans Zimmer', 'gender': 2, 'departm...</td>\n",
       "      <td>Christopher Nolan</td>\n",
       "    </tr>\n",
       "    <tr>\n",
       "      <th>4</th>\n",
       "      <td>4</td>\n",
       "      <td>260000000</td>\n",
       "      <td>Action Adventure Science Fiction</td>\n",
       "      <td>http://movies.disney.com/john-carter</td>\n",
       "      <td>49529</td>\n",
       "      <td>based on novel mars medallion space travel pri...</td>\n",
       "      <td>en</td>\n",
       "      <td>John Carter</td>\n",
       "      <td>John Carter is a war-weary, former military ca...</td>\n",
       "      <td>43.926995</td>\n",
       "      <td>...</td>\n",
       "      <td>132.0</td>\n",
       "      <td>[{\"iso_639_1\": \"en\", \"name\": \"English\"}]</td>\n",
       "      <td>Released</td>\n",
       "      <td>Lost in our world, found in another.</td>\n",
       "      <td>John Carter</td>\n",
       "      <td>6.1</td>\n",
       "      <td>2124</td>\n",
       "      <td>Taylor Kitsch Lynn Collins Samantha Morton Wil...</td>\n",
       "      <td>[{'name': 'Andrew Stanton', 'gender': 2, 'depa...</td>\n",
       "      <td>Andrew Stanton</td>\n",
       "    </tr>\n",
       "  </tbody>\n",
       "</table>\n",
       "<p>5 rows × 24 columns</p>\n",
       "</div>"
      ],
      "text/plain": [
       "   index     budget                                    genres  \\\n",
       "0      0  237000000  Action Adventure Fantasy Science Fiction   \n",
       "1      1  300000000                  Adventure Fantasy Action   \n",
       "2      2  245000000                    Action Adventure Crime   \n",
       "3      3  250000000               Action Crime Drama Thriller   \n",
       "4      4  260000000          Action Adventure Science Fiction   \n",
       "\n",
       "                                       homepage      id  \\\n",
       "0                   http://www.avatarmovie.com/   19995   \n",
       "1  http://disney.go.com/disneypictures/pirates/     285   \n",
       "2   http://www.sonypictures.com/movies/spectre/  206647   \n",
       "3            http://www.thedarkknightrises.com/   49026   \n",
       "4          http://movies.disney.com/john-carter   49529   \n",
       "\n",
       "                                            keywords original_language  \\\n",
       "0  culture clash future space war space colony so...                en   \n",
       "1  ocean drug abuse exotic island east india trad...                en   \n",
       "2         spy based on novel secret agent sequel mi6                en   \n",
       "3  dc comics crime fighter terrorist secret ident...                en   \n",
       "4  based on novel mars medallion space travel pri...                en   \n",
       "\n",
       "                             original_title  \\\n",
       "0                                    Avatar   \n",
       "1  Pirates of the Caribbean: At World's End   \n",
       "2                                   Spectre   \n",
       "3                     The Dark Knight Rises   \n",
       "4                               John Carter   \n",
       "\n",
       "                                            overview  popularity  ... runtime  \\\n",
       "0  In the 22nd century, a paraplegic Marine is di...  150.437577  ...   162.0   \n",
       "1  Captain Barbossa, long believed to be dead, ha...  139.082615  ...   169.0   \n",
       "2  A cryptic message from Bond’s past sends him o...  107.376788  ...   148.0   \n",
       "3  Following the death of District Attorney Harve...  112.312950  ...   165.0   \n",
       "4  John Carter is a war-weary, former military ca...   43.926995  ...   132.0   \n",
       "\n",
       "                                    spoken_languages    status  \\\n",
       "0  [{\"iso_639_1\": \"en\", \"name\": \"English\"}, {\"iso...  Released   \n",
       "1           [{\"iso_639_1\": \"en\", \"name\": \"English\"}]  Released   \n",
       "2  [{\"iso_639_1\": \"fr\", \"name\": \"Fran\\u00e7ais\"},...  Released   \n",
       "3           [{\"iso_639_1\": \"en\", \"name\": \"English\"}]  Released   \n",
       "4           [{\"iso_639_1\": \"en\", \"name\": \"English\"}]  Released   \n",
       "\n",
       "                                          tagline  \\\n",
       "0                     Enter the World of Pandora.   \n",
       "1  At the end of the world, the adventure begins.   \n",
       "2                           A Plan No One Escapes   \n",
       "3                                 The Legend Ends   \n",
       "4            Lost in our world, found in another.   \n",
       "\n",
       "                                      title vote_average vote_count  \\\n",
       "0                                    Avatar          7.2      11800   \n",
       "1  Pirates of the Caribbean: At World's End          6.9       4500   \n",
       "2                                   Spectre          6.3       4466   \n",
       "3                     The Dark Knight Rises          7.6       9106   \n",
       "4                               John Carter          6.1       2124   \n",
       "\n",
       "                                                cast  \\\n",
       "0  Sam Worthington Zoe Saldana Sigourney Weaver S...   \n",
       "1  Johnny Depp Orlando Bloom Keira Knightley Stel...   \n",
       "2  Daniel Craig Christoph Waltz L\\u00e9a Seydoux ...   \n",
       "3  Christian Bale Michael Caine Gary Oldman Anne ...   \n",
       "4  Taylor Kitsch Lynn Collins Samantha Morton Wil...   \n",
       "\n",
       "                                                crew           director  \n",
       "0  [{'name': 'Stephen E. Rivkin', 'gender': 0, 'd...      James Cameron  \n",
       "1  [{'name': 'Dariusz Wolski', 'gender': 2, 'depa...     Gore Verbinski  \n",
       "2  [{'name': 'Thomas Newman', 'gender': 2, 'depar...         Sam Mendes  \n",
       "3  [{'name': 'Hans Zimmer', 'gender': 2, 'departm...  Christopher Nolan  \n",
       "4  [{'name': 'Andrew Stanton', 'gender': 2, 'depa...     Andrew Stanton  \n",
       "\n",
       "[5 rows x 24 columns]"
      ]
     },
     "execution_count": 12,
     "metadata": {},
     "output_type": "execute_result"
    }
   ],
   "source": [
    "data.head()"
   ]
  },
  {
   "cell_type": "code",
   "execution_count": 13,
   "id": "65a25b39-9caf-4c3b-b6b3-d32d09918ef5",
   "metadata": {},
   "outputs": [],
   "source": [
    "new_data=data[['genres','keywords','overview','title']]"
   ]
  },
  {
   "cell_type": "code",
   "execution_count": 14,
   "id": "d5d99d38-1eeb-49c8-92ca-4da2b2a85d2a",
   "metadata": {},
   "outputs": [
    {
     "data": {
      "text/html": [
       "<div>\n",
       "<style scoped>\n",
       "    .dataframe tbody tr th:only-of-type {\n",
       "        vertical-align: middle;\n",
       "    }\n",
       "\n",
       "    .dataframe tbody tr th {\n",
       "        vertical-align: top;\n",
       "    }\n",
       "\n",
       "    .dataframe thead th {\n",
       "        text-align: right;\n",
       "    }\n",
       "</style>\n",
       "<table border=\"1\" class=\"dataframe\">\n",
       "  <thead>\n",
       "    <tr style=\"text-align: right;\">\n",
       "      <th></th>\n",
       "      <th>genres</th>\n",
       "      <th>keywords</th>\n",
       "      <th>overview</th>\n",
       "      <th>title</th>\n",
       "    </tr>\n",
       "  </thead>\n",
       "  <tbody>\n",
       "    <tr>\n",
       "      <th>0</th>\n",
       "      <td>Action Adventure Fantasy Science Fiction</td>\n",
       "      <td>culture clash future space war space colony so...</td>\n",
       "      <td>In the 22nd century, a paraplegic Marine is di...</td>\n",
       "      <td>Avatar</td>\n",
       "    </tr>\n",
       "    <tr>\n",
       "      <th>1</th>\n",
       "      <td>Adventure Fantasy Action</td>\n",
       "      <td>ocean drug abuse exotic island east india trad...</td>\n",
       "      <td>Captain Barbossa, long believed to be dead, ha...</td>\n",
       "      <td>Pirates of the Caribbean: At World's End</td>\n",
       "    </tr>\n",
       "    <tr>\n",
       "      <th>2</th>\n",
       "      <td>Action Adventure Crime</td>\n",
       "      <td>spy based on novel secret agent sequel mi6</td>\n",
       "      <td>A cryptic message from Bond’s past sends him o...</td>\n",
       "      <td>Spectre</td>\n",
       "    </tr>\n",
       "    <tr>\n",
       "      <th>3</th>\n",
       "      <td>Action Crime Drama Thriller</td>\n",
       "      <td>dc comics crime fighter terrorist secret ident...</td>\n",
       "      <td>Following the death of District Attorney Harve...</td>\n",
       "      <td>The Dark Knight Rises</td>\n",
       "    </tr>\n",
       "    <tr>\n",
       "      <th>4</th>\n",
       "      <td>Action Adventure Science Fiction</td>\n",
       "      <td>based on novel mars medallion space travel pri...</td>\n",
       "      <td>John Carter is a war-weary, former military ca...</td>\n",
       "      <td>John Carter</td>\n",
       "    </tr>\n",
       "  </tbody>\n",
       "</table>\n",
       "</div>"
      ],
      "text/plain": [
       "                                     genres  \\\n",
       "0  Action Adventure Fantasy Science Fiction   \n",
       "1                  Adventure Fantasy Action   \n",
       "2                    Action Adventure Crime   \n",
       "3               Action Crime Drama Thriller   \n",
       "4          Action Adventure Science Fiction   \n",
       "\n",
       "                                            keywords  \\\n",
       "0  culture clash future space war space colony so...   \n",
       "1  ocean drug abuse exotic island east india trad...   \n",
       "2         spy based on novel secret agent sequel mi6   \n",
       "3  dc comics crime fighter terrorist secret ident...   \n",
       "4  based on novel mars medallion space travel pri...   \n",
       "\n",
       "                                            overview  \\\n",
       "0  In the 22nd century, a paraplegic Marine is di...   \n",
       "1  Captain Barbossa, long believed to be dead, ha...   \n",
       "2  A cryptic message from Bond’s past sends him o...   \n",
       "3  Following the death of District Attorney Harve...   \n",
       "4  John Carter is a war-weary, former military ca...   \n",
       "\n",
       "                                      title  \n",
       "0                                    Avatar  \n",
       "1  Pirates of the Caribbean: At World's End  \n",
       "2                                   Spectre  \n",
       "3                     The Dark Knight Rises  \n",
       "4                               John Carter  "
      ]
     },
     "execution_count": 14,
     "metadata": {},
     "output_type": "execute_result"
    }
   ],
   "source": [
    "new_data.head()"
   ]
  },
  {
   "cell_type": "markdown",
   "id": "19eb8411-49ba-4493-855f-d0e6f50cb3c7",
   "metadata": {},
   "source": [
    "### Check for Null Values"
   ]
  },
  {
   "cell_type": "code",
   "execution_count": 15,
   "id": "c13d077b-0f82-40cd-8084-004c6798b938",
   "metadata": {},
   "outputs": [
    {
     "data": {
      "text/plain": [
       "genres       True\n",
       "keywords     True\n",
       "overview     True\n",
       "title       False\n",
       "dtype: bool"
      ]
     },
     "execution_count": 15,
     "metadata": {},
     "output_type": "execute_result"
    }
   ],
   "source": [
    "new_data.isnull().any()"
   ]
  },
  {
   "cell_type": "code",
   "execution_count": 16,
   "id": "4945e53f-2bfb-4d6a-846f-2157df21cdad",
   "metadata": {},
   "outputs": [
    {
     "name": "stdout",
     "output_type": "stream",
     "text": [
      "<class 'pandas.core.frame.DataFrame'>\n",
      "RangeIndex: 4803 entries, 0 to 4802\n",
      "Data columns (total 4 columns):\n",
      " #   Column    Non-Null Count  Dtype \n",
      "---  ------    --------------  ----- \n",
      " 0   genres    4775 non-null   object\n",
      " 1   keywords  4391 non-null   object\n",
      " 2   overview  4800 non-null   object\n",
      " 3   title     4803 non-null   object\n",
      "dtypes: object(4)\n",
      "memory usage: 150.2+ KB\n"
     ]
    }
   ],
   "source": [
    "new_data.info()"
   ]
  },
  {
   "cell_type": "code",
   "execution_count": 17,
   "id": "c52eeb93-f2f0-434e-92b6-f6d0272fa08c",
   "metadata": {},
   "outputs": [],
   "source": [
    "new_data=new_data.dropna().reset_index(drop=True)"
   ]
  },
  {
   "cell_type": "code",
   "execution_count": 18,
   "id": "f4ea77e6-1adc-416e-8a3a-6a9af80ca11c",
   "metadata": {},
   "outputs": [
    {
     "name": "stdout",
     "output_type": "stream",
     "text": [
      "<class 'pandas.core.frame.DataFrame'>\n",
      "RangeIndex: 4387 entries, 0 to 4386\n",
      "Data columns (total 4 columns):\n",
      " #   Column    Non-Null Count  Dtype \n",
      "---  ------    --------------  ----- \n",
      " 0   genres    4387 non-null   object\n",
      " 1   keywords  4387 non-null   object\n",
      " 2   overview  4387 non-null   object\n",
      " 3   title     4387 non-null   object\n",
      "dtypes: object(4)\n",
      "memory usage: 137.2+ KB\n"
     ]
    }
   ],
   "source": [
    "new_data.info()"
   ]
  },
  {
   "cell_type": "code",
   "execution_count": 19,
   "id": "7043b680-d244-443c-b613-e4385cd7a768",
   "metadata": {},
   "outputs": [
    {
     "data": {
      "text/plain": [
       "genres      False\n",
       "keywords    False\n",
       "overview    False\n",
       "title       False\n",
       "dtype: bool"
      ]
     },
     "execution_count": 19,
     "metadata": {},
     "output_type": "execute_result"
    }
   ],
   "source": [
    "new_data.isnull().any()"
   ]
  },
  {
   "cell_type": "code",
   "execution_count": 20,
   "id": "e6db83c7-3778-4f48-80d6-455138f9a4a3",
   "metadata": {},
   "outputs": [
    {
     "data": {
      "text/plain": [
       "(4387, 4)"
      ]
     },
     "execution_count": 20,
     "metadata": {},
     "output_type": "execute_result"
    }
   ],
   "source": [
    "new_data.shape"
   ]
  },
  {
   "cell_type": "code",
   "execution_count": 21,
   "id": "bbcffcb5-3b48-4091-a261-6809f4a63cd3",
   "metadata": {},
   "outputs": [
    {
     "data": {
      "text/html": [
       "<div>\n",
       "<style scoped>\n",
       "    .dataframe tbody tr th:only-of-type {\n",
       "        vertical-align: middle;\n",
       "    }\n",
       "\n",
       "    .dataframe tbody tr th {\n",
       "        vertical-align: top;\n",
       "    }\n",
       "\n",
       "    .dataframe thead th {\n",
       "        text-align: right;\n",
       "    }\n",
       "</style>\n",
       "<table border=\"1\" class=\"dataframe\">\n",
       "  <thead>\n",
       "    <tr style=\"text-align: right;\">\n",
       "      <th></th>\n",
       "      <th>genres</th>\n",
       "      <th>keywords</th>\n",
       "      <th>overview</th>\n",
       "      <th>title</th>\n",
       "    </tr>\n",
       "  </thead>\n",
       "  <tbody>\n",
       "    <tr>\n",
       "      <th>0</th>\n",
       "      <td>Action Adventure Fantasy Science Fiction</td>\n",
       "      <td>culture clash future space war space colony so...</td>\n",
       "      <td>In the 22nd century, a paraplegic Marine is di...</td>\n",
       "      <td>Avatar</td>\n",
       "    </tr>\n",
       "    <tr>\n",
       "      <th>1</th>\n",
       "      <td>Adventure Fantasy Action</td>\n",
       "      <td>ocean drug abuse exotic island east india trad...</td>\n",
       "      <td>Captain Barbossa, long believed to be dead, ha...</td>\n",
       "      <td>Pirates of the Caribbean: At World's End</td>\n",
       "    </tr>\n",
       "    <tr>\n",
       "      <th>2</th>\n",
       "      <td>Action Adventure Crime</td>\n",
       "      <td>spy based on novel secret agent sequel mi6</td>\n",
       "      <td>A cryptic message from Bond’s past sends him o...</td>\n",
       "      <td>Spectre</td>\n",
       "    </tr>\n",
       "    <tr>\n",
       "      <th>3</th>\n",
       "      <td>Action Crime Drama Thriller</td>\n",
       "      <td>dc comics crime fighter terrorist secret ident...</td>\n",
       "      <td>Following the death of District Attorney Harve...</td>\n",
       "      <td>The Dark Knight Rises</td>\n",
       "    </tr>\n",
       "    <tr>\n",
       "      <th>4</th>\n",
       "      <td>Action Adventure Science Fiction</td>\n",
       "      <td>based on novel mars medallion space travel pri...</td>\n",
       "      <td>John Carter is a war-weary, former military ca...</td>\n",
       "      <td>John Carter</td>\n",
       "    </tr>\n",
       "  </tbody>\n",
       "</table>\n",
       "</div>"
      ],
      "text/plain": [
       "                                     genres  \\\n",
       "0  Action Adventure Fantasy Science Fiction   \n",
       "1                  Adventure Fantasy Action   \n",
       "2                    Action Adventure Crime   \n",
       "3               Action Crime Drama Thriller   \n",
       "4          Action Adventure Science Fiction   \n",
       "\n",
       "                                            keywords  \\\n",
       "0  culture clash future space war space colony so...   \n",
       "1  ocean drug abuse exotic island east india trad...   \n",
       "2         spy based on novel secret agent sequel mi6   \n",
       "3  dc comics crime fighter terrorist secret ident...   \n",
       "4  based on novel mars medallion space travel pri...   \n",
       "\n",
       "                                            overview  \\\n",
       "0  In the 22nd century, a paraplegic Marine is di...   \n",
       "1  Captain Barbossa, long believed to be dead, ha...   \n",
       "2  A cryptic message from Bond’s past sends him o...   \n",
       "3  Following the death of District Attorney Harve...   \n",
       "4  John Carter is a war-weary, former military ca...   \n",
       "\n",
       "                                      title  \n",
       "0                                    Avatar  \n",
       "1  Pirates of the Caribbean: At World's End  \n",
       "2                                   Spectre  \n",
       "3                     The Dark Knight Rises  \n",
       "4                               John Carter  "
      ]
     },
     "execution_count": 21,
     "metadata": {},
     "output_type": "execute_result"
    }
   ],
   "source": [
    "new_data.head()"
   ]
  },
  {
   "cell_type": "code",
   "execution_count": 22,
   "id": "f8ed5071-dd73-4c4c-8e49-2cabd3dc8c98",
   "metadata": {},
   "outputs": [
    {
     "data": {
      "text/html": [
       "<div>\n",
       "<style scoped>\n",
       "    .dataframe tbody tr th:only-of-type {\n",
       "        vertical-align: middle;\n",
       "    }\n",
       "\n",
       "    .dataframe tbody tr th {\n",
       "        vertical-align: top;\n",
       "    }\n",
       "\n",
       "    .dataframe thead th {\n",
       "        text-align: right;\n",
       "    }\n",
       "</style>\n",
       "<table border=\"1\" class=\"dataframe\">\n",
       "  <thead>\n",
       "    <tr style=\"text-align: right;\">\n",
       "      <th></th>\n",
       "      <th>title</th>\n",
       "      <th>Overview</th>\n",
       "    </tr>\n",
       "  </thead>\n",
       "  <tbody>\n",
       "    <tr>\n",
       "      <th>0</th>\n",
       "      <td>Avatar</td>\n",
       "      <td>Action Adventure Fantasy Science Fiction cultu...</td>\n",
       "    </tr>\n",
       "    <tr>\n",
       "      <th>1</th>\n",
       "      <td>Pirates of the Caribbean: At World's End</td>\n",
       "      <td>Adventure Fantasy Action ocean drug abuse exot...</td>\n",
       "    </tr>\n",
       "    <tr>\n",
       "      <th>2</th>\n",
       "      <td>Spectre</td>\n",
       "      <td>Action Adventure Crime spy based on novel secr...</td>\n",
       "    </tr>\n",
       "    <tr>\n",
       "      <th>3</th>\n",
       "      <td>The Dark Knight Rises</td>\n",
       "      <td>Action Crime Drama Thriller dc comics crime fi...</td>\n",
       "    </tr>\n",
       "    <tr>\n",
       "      <th>4</th>\n",
       "      <td>John Carter</td>\n",
       "      <td>Action Adventure Science Fiction based on nove...</td>\n",
       "    </tr>\n",
       "  </tbody>\n",
       "</table>\n",
       "</div>"
      ],
      "text/plain": [
       "                                      title  \\\n",
       "0                                    Avatar   \n",
       "1  Pirates of the Caribbean: At World's End   \n",
       "2                                   Spectre   \n",
       "3                     The Dark Knight Rises   \n",
       "4                               John Carter   \n",
       "\n",
       "                                            Overview  \n",
       "0  Action Adventure Fantasy Science Fiction cultu...  \n",
       "1  Adventure Fantasy Action ocean drug abuse exot...  \n",
       "2  Action Adventure Crime spy based on novel secr...  \n",
       "3  Action Crime Drama Thriller dc comics crime fi...  \n",
       "4  Action Adventure Science Fiction based on nove...  "
      ]
     },
     "execution_count": 22,
     "metadata": {},
     "output_type": "execute_result"
    }
   ],
   "source": [
    "new_data['Overview']=new_data['genres']+\" \"+new_data['keywords']+\" \"+new_data['overview']\n",
    "data=new_data[['title','Overview']]\n",
    "data.head()"
   ]
  },
  {
   "cell_type": "markdown",
   "id": "38434b9b-13c2-470d-b0d8-27298acae183",
   "metadata": {},
   "source": [
    "###  WordCloud to visualize the most common words in the movie content"
   ]
  },
  {
   "cell_type": "code",
   "execution_count": 105,
   "id": "4b1e5f6b-5de1-4b18-abb6-938f97765d97",
   "metadata": {},
   "outputs": [
    {
     "name": "stdout",
     "output_type": "stream",
     "text": [
      "Requirement already satisfied: wordcloud in c:\\users\\adhi ganapathy\\appdata\\local\\programs\\python\\python313\\lib\\site-packages (1.9.4)\n",
      "Requirement already satisfied: numpy>=1.6.1 in c:\\users\\adhi ganapathy\\appdata\\local\\programs\\python\\python313\\lib\\site-packages (from wordcloud) (2.2.3)\n",
      "Requirement already satisfied: pillow in c:\\users\\adhi ganapathy\\appdata\\local\\programs\\python\\python313\\lib\\site-packages (from wordcloud) (11.1.0)\n",
      "Requirement already satisfied: matplotlib in c:\\users\\adhi ganapathy\\appdata\\local\\programs\\python\\python313\\lib\\site-packages (from wordcloud) (3.10.1)\n",
      "Requirement already satisfied: contourpy>=1.0.1 in c:\\users\\adhi ganapathy\\appdata\\local\\programs\\python\\python313\\lib\\site-packages (from matplotlib->wordcloud) (1.3.1)\n",
      "Requirement already satisfied: cycler>=0.10 in c:\\users\\adhi ganapathy\\appdata\\local\\programs\\python\\python313\\lib\\site-packages (from matplotlib->wordcloud) (0.12.1)\n",
      "Requirement already satisfied: fonttools>=4.22.0 in c:\\users\\adhi ganapathy\\appdata\\local\\programs\\python\\python313\\lib\\site-packages (from matplotlib->wordcloud) (4.56.0)\n",
      "Requirement already satisfied: kiwisolver>=1.3.1 in c:\\users\\adhi ganapathy\\appdata\\local\\programs\\python\\python313\\lib\\site-packages (from matplotlib->wordcloud) (1.4.8)\n",
      "Requirement already satisfied: packaging>=20.0 in c:\\users\\adhi ganapathy\\appdata\\local\\programs\\python\\python313\\lib\\site-packages (from matplotlib->wordcloud) (24.2)\n",
      "Requirement already satisfied: pyparsing>=2.3.1 in c:\\users\\adhi ganapathy\\appdata\\local\\programs\\python\\python313\\lib\\site-packages (from matplotlib->wordcloud) (3.2.1)\n",
      "Requirement already satisfied: python-dateutil>=2.7 in c:\\users\\adhi ganapathy\\appdata\\local\\programs\\python\\python313\\lib\\site-packages (from matplotlib->wordcloud) (2.9.0.post0)\n",
      "Requirement already satisfied: six>=1.5 in c:\\users\\adhi ganapathy\\appdata\\local\\programs\\python\\python313\\lib\\site-packages (from python-dateutil>=2.7->matplotlib->wordcloud) (1.17.0)\n"
     ]
    }
   ],
   "source": [
    "!pip install wordcloud"
   ]
  },
  {
   "cell_type": "code",
   "execution_count": 106,
   "id": "d04a3a1a-c6fa-4400-afc7-10b1a7d70cf5",
   "metadata": {},
   "outputs": [
    {
     "name": "stdout",
     "output_type": "stream",
     "text": [
      "Requirement already satisfied: nltk in c:\\users\\adhi ganapathy\\appdata\\local\\programs\\python\\python313\\lib\\site-packages (3.9.1)\n",
      "Requirement already satisfied: click in c:\\users\\adhi ganapathy\\appdata\\local\\programs\\python\\python313\\lib\\site-packages (from nltk) (8.2.1)\n",
      "Requirement already satisfied: joblib in c:\\users\\adhi ganapathy\\appdata\\local\\programs\\python\\python313\\lib\\site-packages (from nltk) (1.4.2)\n",
      "Requirement already satisfied: regex>=2021.8.3 in c:\\users\\adhi ganapathy\\appdata\\local\\programs\\python\\python313\\lib\\site-packages (from nltk) (2025.9.1)\n",
      "Requirement already satisfied: tqdm in c:\\users\\adhi ganapathy\\appdata\\local\\programs\\python\\python313\\lib\\site-packages (from nltk) (4.67.1)\n",
      "Requirement already satisfied: colorama in c:\\users\\adhi ganapathy\\appdata\\local\\programs\\python\\python313\\lib\\site-packages (from click->nltk) (0.4.6)\n"
     ]
    }
   ],
   "source": [
    "!pip install nltk"
   ]
  },
  {
   "cell_type": "code",
   "execution_count": 23,
   "id": "1dae82cb-25f1-48a4-97ef-bfe977409329",
   "metadata": {},
   "outputs": [
    {
     "data": {
      "image/png": "[encoded data removed]",
      "text/plain": [
       "<Figure size 640x480 with 1 Axes>"
      ]
     },
     "metadata": {},
     "output_type": "display_data"
    }
   ],
   "source": [
    "#import the wordcloud\n",
    "from wordcloud import WordCloud\n",
    "combined_text=\" \".join(new_data['Overview'])\n",
    "wordcloud=WordCloud(width=2000,height=1000,background_color='Black').generate(combined_text)\n",
    "plt.axis('off')\n",
    "plt.imshow(wordcloud)\n",
    "plt.show()"
   ]
  },
  {
   "cell_type": "code",
   "execution_count": 18,
   "id": "fd0dca53-e00c-4ca7-83de-4719f70a4996",
   "metadata": {},
   "outputs": [
    {
     "name": "stderr",
     "output_type": "stream",
     "text": [
      "[nltk_data] Downloading package stopwords to C:\\Users\\Adhi\n",
      "[nltk_data]     Ganapathy\\AppData\\Roaming\\nltk_data...\n",
      "[nltk_data]   Package stopwords is already up-to-date!\n"
     ]
    },
    {
     "data": {
      "text/plain": [
       "True"
      ]
     },
     "execution_count": 18,
     "metadata": {},
     "output_type": "execute_result"
    }
   ],
   "source": [
    "\n",
    "nltk.download('stopwords')\n"
   ]
  },
  {
   "cell_type": "code",
   "execution_count": 19,
   "id": "c9408e66-8d05-4bd4-bbd9-635035ece124",
   "metadata": {},
   "outputs": [
    {
     "name": "stderr",
     "output_type": "stream",
     "text": [
      "[nltk_data] Downloading package punkt to C:\\Users\\Adhi\n",
      "[nltk_data]     Ganapathy\\AppData\\Roaming\\nltk_data...\n",
      "[nltk_data]   Package punkt is already up-to-date!\n",
      "[nltk_data] Downloading package punkt_tab to C:\\Users\\Adhi\n",
      "[nltk_data]     Ganapathy\\AppData\\Roaming\\nltk_data...\n",
      "[nltk_data]   Package punkt_tab is already up-to-date!\n"
     ]
    },
    {
     "data": {
      "text/plain": [
       "True"
      ]
     },
     "execution_count": 19,
     "metadata": {},
     "output_type": "execute_result"
    }
   ],
   "source": [
    "nltk.download('punkt')\n",
    "nltk.download('punkt_tab')"
   ]
  },
  {
   "cell_type": "code",
   "execution_count": 24,
   "id": "1f8ab280-df3f-4069-8095-31428d76b3fd",
   "metadata": {},
   "outputs": [],
   "source": [
    "import re\n",
    "import nltk\n",
    "from nltk.tokenize import word_tokenize\n",
    "from nltk.corpus import stopwords\n",
    "stop_words= set(stopwords.words('english'))"
   ]
  },
  {
   "cell_type": "markdown",
   "id": "acff26f1-d6a2-47fe-a6a3-cd2b74252f3d",
   "metadata": {},
   "source": [
    "### Data Preprocessing"
   ]
  },
  {
   "cell_type": "code",
   "execution_count": 25,
   "id": "e240c6c5-ecf8-4a2e-b2c0-e103d4af6da1",
   "metadata": {},
   "outputs": [],
   "source": [
    "#Remove special characters and numbers\n",
    "new_data['combined']=new_data['Overview'].apply(lambda x: re.sub(r\"[^a-zA-Z\\s]\",\"\",str(x)).lower())\n",
    "#Tokenize the words\n",
    "new_data['tokens'] = new_data['combined'].apply(lambda x: word_tokenize(x))\n",
    "#Remove stop words\n",
    "new_data['cleaned']=new_data['tokens'].apply(lambda x :[word for word in x if word not in stop_words])\n",
    "#from list to string\n",
    "new_data['cleaned']=new_data['cleaned'].apply(lambda x:\" \".join(x))"
   ]
  },
  {
   "cell_type": "code",
   "execution_count": 26,
   "id": "f12df18f-9062-452a-aaf5-f2aa9f02d902",
   "metadata": {},
   "outputs": [
    {
     "data": {
      "text/html": [
       "<div>\n",
       "<style scoped>\n",
       "    .dataframe tbody tr th:only-of-type {\n",
       "        vertical-align: middle;\n",
       "    }\n",
       "\n",
       "    .dataframe tbody tr th {\n",
       "        vertical-align: top;\n",
       "    }\n",
       "\n",
       "    .dataframe thead th {\n",
       "        text-align: right;\n",
       "    }\n",
       "</style>\n",
       "<table border=\"1\" class=\"dataframe\">\n",
       "  <thead>\n",
       "    <tr style=\"text-align: right;\">\n",
       "      <th></th>\n",
       "      <th>genres</th>\n",
       "      <th>keywords</th>\n",
       "      <th>overview</th>\n",
       "      <th>title</th>\n",
       "      <th>Overview</th>\n",
       "      <th>combined</th>\n",
       "      <th>tokens</th>\n",
       "      <th>cleaned</th>\n",
       "    </tr>\n",
       "  </thead>\n",
       "  <tbody>\n",
       "    <tr>\n",
       "      <th>0</th>\n",
       "      <td>Action Adventure Fantasy Science Fiction</td>\n",
       "      <td>culture clash future space war space colony so...</td>\n",
       "      <td>In the 22nd century, a paraplegic Marine is di...</td>\n",
       "      <td>Avatar</td>\n",
       "      <td>Action Adventure Fantasy Science Fiction cultu...</td>\n",
       "      <td>action adventure fantasy science fiction cultu...</td>\n",
       "      <td>[action, adventure, fantasy, science, fiction,...</td>\n",
       "      <td>action adventure fantasy science fiction cultu...</td>\n",
       "    </tr>\n",
       "    <tr>\n",
       "      <th>1</th>\n",
       "      <td>Adventure Fantasy Action</td>\n",
       "      <td>ocean drug abuse exotic island east india trad...</td>\n",
       "      <td>Captain Barbossa, long believed to be dead, ha...</td>\n",
       "      <td>Pirates of the Caribbean: At World's End</td>\n",
       "      <td>Adventure Fantasy Action ocean drug abuse exot...</td>\n",
       "      <td>adventure fantasy action ocean drug abuse exot...</td>\n",
       "      <td>[adventure, fantasy, action, ocean, drug, abus...</td>\n",
       "      <td>adventure fantasy action ocean drug abuse exot...</td>\n",
       "    </tr>\n",
       "    <tr>\n",
       "      <th>2</th>\n",
       "      <td>Action Adventure Crime</td>\n",
       "      <td>spy based on novel secret agent sequel mi6</td>\n",
       "      <td>A cryptic message from Bond’s past sends him o...</td>\n",
       "      <td>Spectre</td>\n",
       "      <td>Action Adventure Crime spy based on novel secr...</td>\n",
       "      <td>action adventure crime spy based on novel secr...</td>\n",
       "      <td>[action, adventure, crime, spy, based, on, nov...</td>\n",
       "      <td>action adventure crime spy based novel secret ...</td>\n",
       "    </tr>\n",
       "    <tr>\n",
       "      <th>3</th>\n",
       "      <td>Action Crime Drama Thriller</td>\n",
       "      <td>dc comics crime fighter terrorist secret ident...</td>\n",
       "      <td>Following the death of District Attorney Harve...</td>\n",
       "      <td>The Dark Knight Rises</td>\n",
       "      <td>Action Crime Drama Thriller dc comics crime fi...</td>\n",
       "      <td>action crime drama thriller dc comics crime fi...</td>\n",
       "      <td>[action, crime, drama, thriller, dc, comics, c...</td>\n",
       "      <td>action crime drama thriller dc comics crime fi...</td>\n",
       "    </tr>\n",
       "    <tr>\n",
       "      <th>4</th>\n",
       "      <td>Action Adventure Science Fiction</td>\n",
       "      <td>based on novel mars medallion space travel pri...</td>\n",
       "      <td>John Carter is a war-weary, former military ca...</td>\n",
       "      <td>John Carter</td>\n",
       "      <td>Action Adventure Science Fiction based on nove...</td>\n",
       "      <td>action adventure science fiction based on nove...</td>\n",
       "      <td>[action, adventure, science, fiction, based, o...</td>\n",
       "      <td>action adventure science fiction based novel m...</td>\n",
       "    </tr>\n",
       "  </tbody>\n",
       "</table>\n",
       "</div>"
      ],
      "text/plain": [
       "                                     genres  \\\n",
       "0  Action Adventure Fantasy Science Fiction   \n",
       "1                  Adventure Fantasy Action   \n",
       "2                    Action Adventure Crime   \n",
       "3               Action Crime Drama Thriller   \n",
       "4          Action Adventure Science Fiction   \n",
       "\n",
       "                                            keywords  \\\n",
       "0  culture clash future space war space colony so...   \n",
       "1  ocean drug abuse exotic island east india trad...   \n",
       "2         spy based on novel secret agent sequel mi6   \n",
       "3  dc comics crime fighter terrorist secret ident...   \n",
       "4  based on novel mars medallion space travel pri...   \n",
       "\n",
       "                                            overview  \\\n",
       "0  In the 22nd century, a paraplegic Marine is di...   \n",
       "1  Captain Barbossa, long believed to be dead, ha...   \n",
       "2  A cryptic message from Bond’s past sends him o...   \n",
       "3  Following the death of District Attorney Harve...   \n",
       "4  John Carter is a war-weary, former military ca...   \n",
       "\n",
       "                                      title  \\\n",
       "0                                    Avatar   \n",
       "1  Pirates of the Caribbean: At World's End   \n",
       "2                                   Spectre   \n",
       "3                     The Dark Knight Rises   \n",
       "4                               John Carter   \n",
       "\n",
       "                                            Overview  \\\n",
       "0  Action Adventure Fantasy Science Fiction cultu...   \n",
       "1  Adventure Fantasy Action ocean drug abuse exot...   \n",
       "2  Action Adventure Crime spy based on novel secr...   \n",
       "3  Action Crime Drama Thriller dc comics crime fi...   \n",
       "4  Action Adventure Science Fiction based on nove...   \n",
       "\n",
       "                                            combined  \\\n",
       "0  action adventure fantasy science fiction cultu...   \n",
       "1  adventure fantasy action ocean drug abuse exot...   \n",
       "2  action adventure crime spy based on novel secr...   \n",
       "3  action crime drama thriller dc comics crime fi...   \n",
       "4  action adventure science fiction based on nove...   \n",
       "\n",
       "                                              tokens  \\\n",
       "0  [action, adventure, fantasy, science, fiction,...   \n",
       "1  [adventure, fantasy, action, ocean, drug, abus...   \n",
       "2  [action, adventure, crime, spy, based, on, nov...   \n",
       "3  [action, crime, drama, thriller, dc, comics, c...   \n",
       "4  [action, adventure, science, fiction, based, o...   \n",
       "\n",
       "                                             cleaned  \n",
       "0  action adventure fantasy science fiction cultu...  \n",
       "1  adventure fantasy action ocean drug abuse exot...  \n",
       "2  action adventure crime spy based novel secret ...  \n",
       "3  action crime drama thriller dc comics crime fi...  \n",
       "4  action adventure science fiction based novel m...  "
      ]
     },
     "execution_count": 26,
     "metadata": {},
     "output_type": "execute_result"
    }
   ],
   "source": [
    "new_data.head()\n"
   ]
  },
  {
   "cell_type": "code",
   "execution_count": 27,
   "id": "c0881682-b8ec-4794-9c3d-bb4befe2cea2",
   "metadata": {},
   "outputs": [
    {
     "data": {
      "text/html": [
       "<div>\n",
       "<style scoped>\n",
       "    .dataframe tbody tr th:only-of-type {\n",
       "        vertical-align: middle;\n",
       "    }\n",
       "\n",
       "    .dataframe tbody tr th {\n",
       "        vertical-align: top;\n",
       "    }\n",
       "\n",
       "    .dataframe thead th {\n",
       "        text-align: right;\n",
       "    }\n",
       "</style>\n",
       "<table border=\"1\" class=\"dataframe\">\n",
       "  <thead>\n",
       "    <tr style=\"text-align: right;\">\n",
       "      <th></th>\n",
       "      <th>title</th>\n",
       "      <th>cleaned</th>\n",
       "    </tr>\n",
       "  </thead>\n",
       "  <tbody>\n",
       "    <tr>\n",
       "      <th>0</th>\n",
       "      <td>Avatar</td>\n",
       "      <td>action adventure fantasy science fiction cultu...</td>\n",
       "    </tr>\n",
       "    <tr>\n",
       "      <th>1</th>\n",
       "      <td>Pirates of the Caribbean: At World's End</td>\n",
       "      <td>adventure fantasy action ocean drug abuse exot...</td>\n",
       "    </tr>\n",
       "    <tr>\n",
       "      <th>2</th>\n",
       "      <td>Spectre</td>\n",
       "      <td>action adventure crime spy based novel secret ...</td>\n",
       "    </tr>\n",
       "    <tr>\n",
       "      <th>3</th>\n",
       "      <td>The Dark Knight Rises</td>\n",
       "      <td>action crime drama thriller dc comics crime fi...</td>\n",
       "    </tr>\n",
       "    <tr>\n",
       "      <th>4</th>\n",
       "      <td>John Carter</td>\n",
       "      <td>action adventure science fiction based novel m...</td>\n",
       "    </tr>\n",
       "  </tbody>\n",
       "</table>\n",
       "</div>"
      ],
      "text/plain": [
       "                                      title  \\\n",
       "0                                    Avatar   \n",
       "1  Pirates of the Caribbean: At World's End   \n",
       "2                                   Spectre   \n",
       "3                     The Dark Knight Rises   \n",
       "4                               John Carter   \n",
       "\n",
       "                                             cleaned  \n",
       "0  action adventure fantasy science fiction cultu...  \n",
       "1  adventure fantasy action ocean drug abuse exot...  \n",
       "2  action adventure crime spy based novel secret ...  \n",
       "3  action crime drama thriller dc comics crime fi...  \n",
       "4  action adventure science fiction based novel m...  "
      ]
     },
     "execution_count": 27,
     "metadata": {},
     "output_type": "execute_result"
    }
   ],
   "source": [
    "new_data=new_data[['title','cleaned']]\n",
    "new_data.head()"
   ]
  },
  {
   "cell_type": "markdown",
   "id": "60dc18c7-804c-4936-86b9-afc6da84e5b2",
   "metadata": {},
   "source": [
    "### import TF_IDF and Cosine Similarity"
   ]
  },
  {
   "cell_type": "code",
   "execution_count": 28,
   "id": "2e7d4007-2263-4c9b-a020-8f4fe29fcfad",
   "metadata": {},
   "outputs": [],
   "source": [
    "from sklearn.feature_extraction.text import TfidfVectorizer\n",
    "from sklearn.metrics.pairwise import cosine_similarity"
   ]
  },
  {
   "cell_type": "code",
   "execution_count": 29,
   "id": "209fc99d-46f7-4a3e-ae2e-7d1ac61c7d4c",
   "metadata": {},
   "outputs": [],
   "source": [
    "tfidf_vectorizer = TfidfVectorizer(max_features=5000)\n",
    "tfidf_matrix = tfidf_vectorizer.fit_transform(new_data['cleaned'])\n"
   ]
  },
  {
   "cell_type": "code",
   "execution_count": 30,
   "id": "aa52a167-c351-4d11-86a2-64c6d35f34cf",
   "metadata": {},
   "outputs": [
    {
     "name": "stdout",
     "output_type": "stream",
     "text": [
      "   aaron  abandoned  abducted  abilities  ability  able  aboard  abroad  \\\n",
      "0    0.0        0.0       0.0        0.0      0.0   0.0     0.0     0.0   \n",
      "1    0.0        0.0       0.0        0.0      0.0   0.0     0.0     0.0   \n",
      "2    0.0        0.0       0.0        0.0      0.0   0.0     0.0     0.0   \n",
      "3    0.0        0.0       0.0        0.0      0.0   0.0     0.0     0.0   \n",
      "4    0.0        0.0       0.0        0.0      0.0   0.0     0.0     0.0   \n",
      "\n",
      "   absence     abuse  ...  youth  yuppie  zealand  zebra  zeus  zoe  zombie  \\\n",
      "0      0.0  0.000000  ...    0.0     0.0      0.0    0.0   0.0  0.0     0.0   \n",
      "1      0.0  0.189771  ...    0.0     0.0      0.0    0.0   0.0  0.0     0.0   \n",
      "2      0.0  0.000000  ...    0.0     0.0      0.0    0.0   0.0  0.0     0.0   \n",
      "3      0.0  0.000000  ...    0.0     0.0      0.0    0.0   0.0  0.0     0.0   \n",
      "4      0.0  0.000000  ...    0.0     0.0      0.0    0.0   0.0  0.0     0.0   \n",
      "\n",
      "   zombies  zone  zoo  \n",
      "0      0.0   0.0  0.0  \n",
      "1      0.0   0.0  0.0  \n",
      "2      0.0   0.0  0.0  \n",
      "3      0.0   0.0  0.0  \n",
      "4      0.0   0.0  0.0  \n",
      "\n",
      "[5 rows x 5000 columns]\n"
     ]
    }
   ],
   "source": [
    "feature_names = tfidf_vectorizer.get_feature_names_out()\n",
    "\n",
    "# Convert sparse matrix to DataFrame\n",
    "tfidf_df = pd.DataFrame(tfidf_matrix.toarray(), columns=feature_names)\n",
    "\n",
    "print(tfidf_df.head())"
   ]
  },
  {
   "cell_type": "code",
   "execution_count": 47,
   "id": "d72fb541-8a33-4e90-bbbe-f3228fd3c4ab",
   "metadata": {},
   "outputs": [],
   "source": [
    "#Compute Cosine similarity\n",
    "cos_sim = cosine_similarity(tfidf_matrix,tfidf_matrix)"
   ]
  },
  {
   "cell_type": "code",
   "execution_count": 48,
   "id": "70be23fc-7f57-447c-9839-40e0fa57c3ab",
   "metadata": {},
   "outputs": [],
   "source": [
    "\n",
    "def recommend_movies(movie_name,cos_sim=cos_sim,top_n=5):\n",
    "    if movie_name.lower() in new_data['title'].str.lower().values:\n",
    "        #Find the index of the movie\n",
    "        idx=new_data[new_data['title'].str.lower() == movie_name.lower()].index\n",
    "        #print(idx)\n",
    "        #Get Similarity Scores\n",
    "        sim_scores=list(enumerate(cos_sim[idx][0]))\n",
    "        sim_scores=sorted(sim_scores, key=lambda x: x[1],reverse=True)\n",
    "        sim_scores=sim_scores[1:top_n+1]\n",
    "         # Get movie indices\n",
    "        movie_indices = [i[0] for i in sim_scores]\n",
    "\n",
    "        return new_data[['title']].iloc[movie_indices]\n",
    "    else:\n",
    "        print(\"Movie is not present in dataset\")"
   ]
  },
  {
   "cell_type": "code",
   "execution_count": 49,
   "id": "3a53952e-750b-4cec-9050-8f1759f5656d",
   "metadata": {},
   "outputs": [],
   "source": [
    "movie_name=\"Spectre\""
   ]
  },
  {
   "cell_type": "code",
   "execution_count": 50,
   "id": "760f9b20-6441-4de4-8c5a-0bfb70d9cf8b",
   "metadata": {},
   "outputs": [
    {
     "name": "stdout",
     "output_type": "stream",
     "text": [
      "Recommendations for the Movie Spectre\n",
      "                      title\n",
      "29                  Skyfall\n",
      "11        Quantum of Solace\n",
      "3010            Thunderball\n",
      "1317  Never Say Never Again\n",
      "145         Die Another Day\n"
     ]
    }
   ],
   "source": [
    "#Recommendation System\n",
    "print(f\"Recommendations for the Movie {movie_name}\")\n",
    "recommendation=recommend_movies(movie_name)\n",
    "print(recommendation)"
   ]
  },
  {
   "cell_type": "code",
   "execution_count": 59,
   "id": "9925d711-c2bc-4071-a1de-f8ba2d1d1533",
   "metadata": {},
   "outputs": [],
   "source": [
    "import pickle\n",
    "picklefile=r'C:\\Users\\Adhi Ganapathy\\Documents\\Python_ws\\Recommendation Engine 13092025\\Model\\Recommender.pkl'\n",
    "with open(picklefile,'wb') as file:\n",
    "    pickle.dump(new_data,file)"
   ]
  },
  {
   "cell_type": "code",
   "execution_count": 60,
   "id": "a5fbcd73-b1f9-4482-862c-794c17643f83",
   "metadata": {},
   "outputs": [],
   "source": [
    "import pickle\n",
    "picklefile=r'C:\\Users\\Adhi Ganapathy\\Documents\\Python_ws\\Recommendation Engine 13092025\\Model\\similarity.pkl'\n",
    "with open(picklefile,'wb') as file:\n",
    "    pickle.dump(cos_sim,file)"
   ]
  },
  {
   "cell_type": "code",
   "execution_count": null,
   "id": "4b0db592-b799-442d-9039-4f184a0c2546",
   "metadata": {},
   "outputs": [],
   "source": []
  },
  {
   "cell_type": "code",
   "execution_count": null,
   "id": "472cda52-7661-4e61-a0bc-8f7dedaf6f04",
   "metadata": {},
   "outputs": [],
   "source": []
  },
  {
   "cell_type": "code",
   "execution_count": null,
   "id": "89d132dc-8b89-4882-a7e2-426b5e83f144",
   "metadata": {},
   "outputs": [],
   "source": []
  }
 ],
 "metadata": {
  "kernelspec": {
   "display_name": "Python 3 (ipykernel)",
   "language": "python",
   "name": "python3"
  },
  "language_info": {
   "codemirror_mode": {
    "name": "ipython",
    "version": 3
   },
   "file_extension": ".py",
   "mimetype": "text/x-python",
   "name": "python",
   "nbconvert_exporter": "python",
   "pygments_lexer": "ipython3",
   "version": "3.13.2"
  }
 },
 "nbformat": 4,
 "nbformat_minor": 5
}
